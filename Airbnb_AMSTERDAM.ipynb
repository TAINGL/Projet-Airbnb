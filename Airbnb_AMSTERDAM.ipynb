{
 "cells": [
  {
   "cell_type": "code",
   "execution_count": null,
   "metadata": {},
   "outputs": [],
   "source": [
    "pip install geopandas"
   ]
  },
  {
   "cell_type": "markdown",
   "metadata": {},
   "source": [
    "### 1. Connecter sur le Drive pour récupérer les fichiers si Google Coolab"
   ]
  },
  {
   "cell_type": "code",
   "execution_count": null,
   "metadata": {},
   "outputs": [],
   "source": [
    "# Load the Drive helper and mount\n",
    "from google.colab import drive\n",
    "\n",
    "# This will prompt for authorization.\n",
    "drive.mount('/content/drive')"
   ]
  },
  {
   "cell_type": "code",
   "execution_count": null,
   "metadata": {},
   "outputs": [],
   "source": [
    "# After executing the cell above, Drive\n",
    "# files will be present in \"/content/drive/My Drive\".\n",
    "!ls \"/content/drive/My Drive/Rbnb\""
   ]
  },
  {
   "cell_type": "markdown",
   "metadata": {},
   "source": [
    "### Contexte\n",
    "\n",
    "#### L'objectif est de réduire les logements Airbnb disponibles sur Paris, à partir de certains paramètres.\n",
    "\n",
    "    la date de début de séjour\n",
    "    le nombre de personnes logées\n",
    "    le tarif journalier max\n",
    "    la qualité de l'hôte (paramètre 'superhost')\n",
    "\n",
    "#### Typologies d'usage\n",
    "\n",
    "    Un couple avec 2 enfants cherche un logement pour un week end à Paris.\n",
    "    Ou un propriétaire cherche à faire un benchmark sur les tarifs pratiqués sur le logement qu'il souhaite mettre en location.\n",
    "\n",
    "#### Superhost requirements\n",
    "\n",
    "    Completed at least 10 trips OR successfully completed 3 reservations that total at least 100 nights\n",
    "    Maintained a 90% response rate or higher\n",
    "    Maintained a 1% percent cancellation rate (1 cancellation per 100 reservations) or lower, with exceptions made for those that fall under our Extenuating Circumstances policy\n",
    "    Maintain a 4.8 overall rating\n",
    "\n"
   ]
  },
  {
   "cell_type": "code",
   "execution_count": 1,
   "metadata": {},
   "outputs": [],
   "source": [
    "import numpy as np\n",
    "import pandas as pd\n",
    "import seaborn as sns\n",
    "sns.set()\n",
    "import matplotlib.pyplot as plt\n",
    "\n",
    "import datetime\n",
    "\n",
    "import os\n",
    "import warnings\n",
    "warnings.simplefilter(action='ignore', category=FutureWarning)\n",
    "\n",
    "#to make the interactive maps\n",
    "import folium\n",
    "from folium.plugins import FastMarkerCluster\n",
    "import geopandas as gpd\n",
    "from branca.colormap import LinearColormap"
   ]
  },
  {
   "cell_type": "markdown",
   "metadata": {},
   "source": [
    "### Saisir les paramètres"
   ]
  },
  {
   "cell_type": "code",
   "execution_count": 28,
   "metadata": {},
   "outputs": [
    {
     "name": "stdout",
     "output_type": "stream",
     "text": [
      "Date souhaitée (aaaa-mm-jj) : \n",
      "2019-08-24\n"
     ]
    }
   ],
   "source": [
    "# saisir la date souhaitée\n",
    "print('Date souhaitée (aaaa-mm-jj) : ')\n",
    "wdate = input()\n",
    "\n",
    "import datetime\n",
    "\n",
    "d_s = datetime.datetime.strptime(wdate,\"%Y-%m-%d\").strftime('%Y-%m-%d')"
   ]
  },
  {
   "cell_type": "code",
   "execution_count": 29,
   "metadata": {},
   "outputs": [
    {
     "name": "stdout",
     "output_type": "stream",
     "text": [
      "Nombre de personnes : \n",
      "4\n"
     ]
    }
   ],
   "source": [
    "# saisir les critères de recherche : nombre de personnes\n",
    "print('Nombre de personnes : ')\n",
    "n_p = int(input())"
   ]
  },
  {
   "cell_type": "code",
   "execution_count": 30,
   "metadata": {},
   "outputs": [
    {
     "name": "stdout",
     "output_type": "stream",
     "text": [
      "Prix max / jour : \n",
      "50\n"
     ]
    }
   ],
   "source": [
    "# saisir les critères de recherche : tarif journalier max\n",
    "print('Prix max / jour : ')\n",
    "p_m = int(input())"
   ]
  },
  {
   "cell_type": "markdown",
   "metadata": {},
   "source": [
    "### Réduire le set de données avec les paramètres saisis\n",
    "\n",
    "#### Calendar\n",
    "\n",
    "    Date choisie\n",
    "    Disponibilité du logement\n"
   ]
  },
  {
   "cell_type": "code",
   "execution_count": 31,
   "metadata": {},
   "outputs": [],
   "source": [
    "calendar = pd.read_csv(\"/Users/Johanna/Documents/SIMPLON/PROJET/09. Airbnb Paris Aout 2019/source/calendar.csv\")"
   ]
  },
  {
   "cell_type": "code",
   "execution_count": 32,
   "metadata": {},
   "outputs": [
    {
     "name": "stdout",
     "output_type": "stream",
     "text": [
      "<class 'pandas.core.frame.DataFrame'>\n",
      "RangeIndex: 23467355 entries, 0 to 23467354\n",
      "Data columns (total 7 columns):\n",
      "listing_id        int64\n",
      "date              object\n",
      "available         object\n",
      "price             object\n",
      "adjusted_price    object\n",
      "minimum_nights    float64\n",
      "maximum_nights    float64\n",
      "dtypes: float64(2), int64(1), object(4)\n",
      "memory usage: 1.2+ GB\n"
     ]
    }
   ],
   "source": [
    "# chaque logement répertorié dans le fichier Airbnb génère 365 lignes (soit 1 ligne par jour) dans le fichier calendar\n",
    "calendar.info()"
   ]
  },
  {
   "cell_type": "code",
   "execution_count": 33,
   "metadata": {},
   "outputs": [],
   "source": [
    "# convertir la colonne date sous le format date\n",
    "calendar['date'] = pd.to_datetime(calendar['date'])"
   ]
  },
  {
   "cell_type": "code",
   "execution_count": 34,
   "metadata": {},
   "outputs": [],
   "source": [
    "calendar.available = calendar.available.replace({\"t\": \"True\", \"f\": \"False\"})"
   ]
  },
  {
   "cell_type": "code",
   "execution_count": 35,
   "metadata": {},
   "outputs": [
    {
     "data": {
      "text/plain": [
       "64293"
      ]
     },
     "execution_count": 35,
     "metadata": {},
     "output_type": "execute_result"
    }
   ],
   "source": [
    "# filtrer sur la date saisie \n",
    "fd = (calendar.date == d_s) # créer le filtre\n",
    "calendar_d = calendar[fd] # l'appliquer sur le df calendar pour ne retenir que les lignes avec la date concernée\n",
    "calendar_d.listing_id.count() # vérifier que le filtre a fonctionné"
   ]
  },
  {
   "cell_type": "code",
   "execution_count": 36,
   "metadata": {},
   "outputs": [
    {
     "data": {
      "text/plain": [
       "18530"
      ]
     },
     "execution_count": 36,
     "metadata": {},
     "output_type": "execute_result"
    }
   ],
   "source": [
    "# filtrer sur les logements disponibles \n",
    "fa = (calendar_d.available == \"True\")\n",
    "calendar_a = calendar_d[fa] # l'appliquer au df précédent\n",
    "calendar_a.listing_id.count() # nombre de logements disponibles à la date concernée"
   ]
  },
  {
   "cell_type": "code",
   "execution_count": 37,
   "metadata": {},
   "outputs": [
    {
     "name": "stderr",
     "output_type": "stream",
     "text": [
      "/Applications/anaconda3/envs/Airbnb/lib/python3.7/site-packages/pandas/core/generic.py:5209: SettingWithCopyWarning: \n",
      "A value is trying to be set on a copy of a slice from a DataFrame.\n",
      "Try using .loc[row_indexer,col_indexer] = value instead\n",
      "\n",
      "See the caveats in the documentation: http://pandas.pydata.org/pandas-docs/stable/user_guide/indexing.html#returning-a-view-versus-a-copy\n",
      "  self[name] = value\n"
     ]
    }
   ],
   "source": [
    "# mettre adjusted_price au format chiffre\n",
    "calendar_a.adjusted_price = calendar_a.adjusted_price.str.replace('$', '')\n",
    "calendar_a.adjusted_price = calendar_a.adjusted_price.str.replace(',', '')\n",
    "calendar_a.adjusted_price = pd.to_numeric(calendar_a.adjusted_price) "
   ]
  },
  {
   "cell_type": "code",
   "execution_count": 38,
   "metadata": {},
   "outputs": [
    {
     "data": {
      "text/html": [
       "<div>\n",
       "<style scoped>\n",
       "    .dataframe tbody tr th:only-of-type {\n",
       "        vertical-align: middle;\n",
       "    }\n",
       "\n",
       "    .dataframe tbody tr th {\n",
       "        vertical-align: top;\n",
       "    }\n",
       "\n",
       "    .dataframe thead th {\n",
       "        text-align: right;\n",
       "    }\n",
       "</style>\n",
       "<table border=\"1\" class=\"dataframe\">\n",
       "  <thead>\n",
       "    <tr style=\"text-align: right;\">\n",
       "      <th></th>\n",
       "      <th>listing_id</th>\n",
       "      <th>date</th>\n",
       "      <th>available</th>\n",
       "      <th>price</th>\n",
       "      <th>adjusted_price</th>\n",
       "      <th>minimum_nights</th>\n",
       "      <th>maximum_nights</th>\n",
       "    </tr>\n",
       "  </thead>\n",
       "  <tbody>\n",
       "    <tr>\n",
       "      <th>45</th>\n",
       "      <td>3109</td>\n",
       "      <td>2019-08-24</td>\n",
       "      <td>True</td>\n",
       "      <td>$60.00</td>\n",
       "      <td>60.0</td>\n",
       "      <td>3.0</td>\n",
       "      <td>15.0</td>\n",
       "    </tr>\n",
       "    <tr>\n",
       "      <th>2234</th>\n",
       "      <td>9952</td>\n",
       "      <td>2019-08-24</td>\n",
       "      <td>True</td>\n",
       "      <td>$100.00</td>\n",
       "      <td>100.0</td>\n",
       "      <td>5.0</td>\n",
       "      <td>120.0</td>\n",
       "    </tr>\n",
       "    <tr>\n",
       "      <th>4060</th>\n",
       "      <td>11213</td>\n",
       "      <td>2019-08-24</td>\n",
       "      <td>True</td>\n",
       "      <td>$157.00</td>\n",
       "      <td>157.0</td>\n",
       "      <td>1.0</td>\n",
       "      <td>730.0</td>\n",
       "    </tr>\n",
       "    <tr>\n",
       "      <th>4425</th>\n",
       "      <td>11265</td>\n",
       "      <td>2019-08-24</td>\n",
       "      <td>True</td>\n",
       "      <td>$99.00</td>\n",
       "      <td>99.0</td>\n",
       "      <td>7.0</td>\n",
       "      <td>90.0</td>\n",
       "    </tr>\n",
       "    <tr>\n",
       "      <th>4790</th>\n",
       "      <td>11798</td>\n",
       "      <td>2019-08-24</td>\n",
       "      <td>True</td>\n",
       "      <td>$120.00</td>\n",
       "      <td>120.0</td>\n",
       "      <td>2.0</td>\n",
       "      <td>20.0</td>\n",
       "    </tr>\n",
       "  </tbody>\n",
       "</table>\n",
       "</div>"
      ],
      "text/plain": [
       "      listing_id       date available    price  adjusted_price  \\\n",
       "45          3109 2019-08-24      True   $60.00            60.0   \n",
       "2234        9952 2019-08-24      True  $100.00           100.0   \n",
       "4060       11213 2019-08-24      True  $157.00           157.0   \n",
       "4425       11265 2019-08-24      True   $99.00            99.0   \n",
       "4790       11798 2019-08-24      True  $120.00           120.0   \n",
       "\n",
       "      minimum_nights  maximum_nights  \n",
       "45               3.0            15.0  \n",
       "2234             5.0           120.0  \n",
       "4060             1.0           730.0  \n",
       "4425             7.0            90.0  \n",
       "4790             2.0            20.0  "
      ]
     },
     "execution_count": 38,
     "metadata": {},
     "output_type": "execute_result"
    }
   ],
   "source": [
    "# vérifier le résultats suite aux applications des filtres \n",
    "calendar_a.head()"
   ]
  },
  {
   "cell_type": "markdown",
   "metadata": {},
   "source": [
    "Double-cliquez (ou appuyez sur Entrée) pour modifier"
   ]
  },
  {
   "cell_type": "markdown",
   "metadata": {},
   "source": [
    "### Réduire le set de données avec les paramètres saisis\n",
    "\n",
    "#### Listings et listings_details"
   ]
  },
  {
   "cell_type": "code",
   "execution_count": 39,
   "metadata": {},
   "outputs": [],
   "source": [
    "listings = pd.read_csv(\"/Users/Johanna/Documents/SIMPLON/PROJET/09. Airbnb Paris Aout 2019/source/listings.csv\", index_col= \"id\")"
   ]
  },
  {
   "cell_type": "code",
   "execution_count": 40,
   "metadata": {},
   "outputs": [
    {
     "name": "stdout",
     "output_type": "stream",
     "text": [
      "<class 'pandas.core.frame.DataFrame'>\n",
      "Int64Index: 64293 entries, 3109 to 36561242\n",
      "Data columns (total 15 columns):\n",
      "name                              64224 non-null object\n",
      "host_id                           64293 non-null int64\n",
      "host_name                         64229 non-null object\n",
      "neighbourhood_group               0 non-null float64\n",
      "neighbourhood                     64293 non-null object\n",
      "latitude                          64293 non-null float64\n",
      "longitude                         64293 non-null float64\n",
      "room_type                         64293 non-null object\n",
      "price                             64293 non-null int64\n",
      "minimum_nights                    64293 non-null int64\n",
      "number_of_reviews                 64293 non-null int64\n",
      "last_review                       49684 non-null object\n",
      "reviews_per_month                 49684 non-null float64\n",
      "calculated_host_listings_count    64293 non-null int64\n",
      "availability_365                  64293 non-null int64\n",
      "dtypes: float64(4), int64(6), object(5)\n",
      "memory usage: 7.8+ MB\n"
     ]
    }
   ],
   "source": [
    "# examiner la structure du fichier et la typologie des colonnes\n",
    "listings.info()"
   ]
  },
  {
   "cell_type": "code",
   "execution_count": 41,
   "metadata": {},
   "outputs": [
    {
     "name": "stdout",
     "output_type": "stream",
     "text": [
      "<class 'pandas.core.frame.DataFrame'>\n",
      "Int64Index: 64293 entries, 3109 to 36561242\n",
      "Data columns (total 4 columns):\n",
      "host_id          64293 non-null int64\n",
      "neighbourhood    64293 non-null object\n",
      "latitude         64293 non-null float64\n",
      "longitude        64293 non-null float64\n",
      "dtypes: float64(2), int64(1), object(1)\n",
      "memory usage: 2.5+ MB\n"
     ]
    }
   ],
   "source": [
    "# retenir certaines colonnes du fichier listings\n",
    "ltarget_columns = [\"host_id\", \"neighbourhood\", \"latitude\", \"longitude\"]\n",
    "listing_sl = listings[ltarget_columns]\n",
    "listing_sl.info()"
   ]
  },
  {
   "cell_type": "code",
   "execution_count": 42,
   "metadata": {},
   "outputs": [],
   "source": [
    "# préparer listing_sl pour la jointure avec calendar\n",
    "listing_sl.index.name = \"listing_id\""
   ]
  },
  {
   "cell_type": "code",
   "execution_count": 43,
   "metadata": {},
   "outputs": [
    {
     "data": {
      "text/html": [
       "<div>\n",
       "<style scoped>\n",
       "    .dataframe tbody tr th:only-of-type {\n",
       "        vertical-align: middle;\n",
       "    }\n",
       "\n",
       "    .dataframe tbody tr th {\n",
       "        vertical-align: top;\n",
       "    }\n",
       "\n",
       "    .dataframe thead th {\n",
       "        text-align: right;\n",
       "    }\n",
       "</style>\n",
       "<table border=\"1\" class=\"dataframe\">\n",
       "  <thead>\n",
       "    <tr style=\"text-align: right;\">\n",
       "      <th></th>\n",
       "      <th>host_id</th>\n",
       "      <th>neighbourhood</th>\n",
       "      <th>latitude</th>\n",
       "      <th>longitude</th>\n",
       "    </tr>\n",
       "    <tr>\n",
       "      <th>listing_id</th>\n",
       "      <th></th>\n",
       "      <th></th>\n",
       "      <th></th>\n",
       "      <th></th>\n",
       "    </tr>\n",
       "  </thead>\n",
       "  <tbody>\n",
       "    <tr>\n",
       "      <th>3109</th>\n",
       "      <td>3631</td>\n",
       "      <td>Observatoire</td>\n",
       "      <td>48.83349</td>\n",
       "      <td>2.31852</td>\n",
       "    </tr>\n",
       "    <tr>\n",
       "      <th>5396</th>\n",
       "      <td>7903</td>\n",
       "      <td>Hôtel-de-Ville</td>\n",
       "      <td>48.85100</td>\n",
       "      <td>2.35869</td>\n",
       "    </tr>\n",
       "    <tr>\n",
       "      <th>7397</th>\n",
       "      <td>2626</td>\n",
       "      <td>Hôtel-de-Ville</td>\n",
       "      <td>48.85758</td>\n",
       "      <td>2.35275</td>\n",
       "    </tr>\n",
       "    <tr>\n",
       "      <th>7964</th>\n",
       "      <td>22155</td>\n",
       "      <td>Opéra</td>\n",
       "      <td>48.87464</td>\n",
       "      <td>2.34341</td>\n",
       "    </tr>\n",
       "    <tr>\n",
       "      <th>8522</th>\n",
       "      <td>25435</td>\n",
       "      <td>Ménilmontant</td>\n",
       "      <td>48.86528</td>\n",
       "      <td>2.39326</td>\n",
       "    </tr>\n",
       "  </tbody>\n",
       "</table>\n",
       "</div>"
      ],
      "text/plain": [
       "            host_id   neighbourhood  latitude  longitude\n",
       "listing_id                                              \n",
       "3109           3631    Observatoire  48.83349    2.31852\n",
       "5396           7903  Hôtel-de-Ville  48.85100    2.35869\n",
       "7397           2626  Hôtel-de-Ville  48.85758    2.35275\n",
       "7964          22155           Opéra  48.87464    2.34341\n",
       "8522          25435    Ménilmontant  48.86528    2.39326"
      ]
     },
     "execution_count": 43,
     "metadata": {},
     "output_type": "execute_result"
    }
   ],
   "source": [
    "listing_sl.head()"
   ]
  },
  {
   "cell_type": "code",
   "execution_count": 44,
   "metadata": {},
   "outputs": [],
   "source": [
    "# jointure calendar et listings \n",
    "clj = pd.merge(calendar_a, listing_sl, on = 'listing_id', how = 'left')"
   ]
  },
  {
   "cell_type": "code",
   "execution_count": 45,
   "metadata": {},
   "outputs": [
    {
     "name": "stdout",
     "output_type": "stream",
     "text": [
      "<class 'pandas.core.frame.DataFrame'>\n",
      "Int64Index: 18530 entries, 0 to 18529\n",
      "Data columns (total 11 columns):\n",
      "listing_id        18530 non-null int64\n",
      "date              18530 non-null datetime64[ns]\n",
      "available         18530 non-null object\n",
      "price             18530 non-null object\n",
      "adjusted_price    18530 non-null float64\n",
      "minimum_nights    18530 non-null float64\n",
      "maximum_nights    18530 non-null float64\n",
      "host_id           18530 non-null int64\n",
      "neighbourhood     18530 non-null object\n",
      "latitude          18530 non-null float64\n",
      "longitude         18530 non-null float64\n",
      "dtypes: datetime64[ns](1), float64(5), int64(2), object(3)\n",
      "memory usage: 1.7+ MB\n"
     ]
    }
   ],
   "source": [
    "clj.info()"
   ]
  },
  {
   "cell_type": "code",
   "execution_count": 46,
   "metadata": {},
   "outputs": [
    {
     "data": {
      "text/html": [
       "<div>\n",
       "<style scoped>\n",
       "    .dataframe tbody tr th:only-of-type {\n",
       "        vertical-align: middle;\n",
       "    }\n",
       "\n",
       "    .dataframe tbody tr th {\n",
       "        vertical-align: top;\n",
       "    }\n",
       "\n",
       "    .dataframe thead th {\n",
       "        text-align: right;\n",
       "    }\n",
       "</style>\n",
       "<table border=\"1\" class=\"dataframe\">\n",
       "  <thead>\n",
       "    <tr style=\"text-align: right;\">\n",
       "      <th></th>\n",
       "      <th>listing_id</th>\n",
       "      <th>date</th>\n",
       "      <th>available</th>\n",
       "      <th>price</th>\n",
       "      <th>adjusted_price</th>\n",
       "      <th>minimum_nights</th>\n",
       "      <th>maximum_nights</th>\n",
       "      <th>host_id</th>\n",
       "      <th>neighbourhood</th>\n",
       "      <th>latitude</th>\n",
       "      <th>longitude</th>\n",
       "    </tr>\n",
       "  </thead>\n",
       "  <tbody>\n",
       "    <tr>\n",
       "      <th>0</th>\n",
       "      <td>3109</td>\n",
       "      <td>2019-08-24</td>\n",
       "      <td>True</td>\n",
       "      <td>$60.00</td>\n",
       "      <td>60.0</td>\n",
       "      <td>3.0</td>\n",
       "      <td>15.0</td>\n",
       "      <td>3631</td>\n",
       "      <td>Observatoire</td>\n",
       "      <td>48.83349</td>\n",
       "      <td>2.31852</td>\n",
       "    </tr>\n",
       "    <tr>\n",
       "      <th>1</th>\n",
       "      <td>9952</td>\n",
       "      <td>2019-08-24</td>\n",
       "      <td>True</td>\n",
       "      <td>$100.00</td>\n",
       "      <td>100.0</td>\n",
       "      <td>5.0</td>\n",
       "      <td>120.0</td>\n",
       "      <td>33534</td>\n",
       "      <td>Popincourt</td>\n",
       "      <td>48.86227</td>\n",
       "      <td>2.37134</td>\n",
       "    </tr>\n",
       "    <tr>\n",
       "      <th>2</th>\n",
       "      <td>11213</td>\n",
       "      <td>2019-08-24</td>\n",
       "      <td>True</td>\n",
       "      <td>$157.00</td>\n",
       "      <td>157.0</td>\n",
       "      <td>1.0</td>\n",
       "      <td>730.0</td>\n",
       "      <td>41322</td>\n",
       "      <td>Entrepôt</td>\n",
       "      <td>48.87110</td>\n",
       "      <td>2.37424</td>\n",
       "    </tr>\n",
       "    <tr>\n",
       "      <th>3</th>\n",
       "      <td>11265</td>\n",
       "      <td>2019-08-24</td>\n",
       "      <td>True</td>\n",
       "      <td>$99.00</td>\n",
       "      <td>99.0</td>\n",
       "      <td>7.0</td>\n",
       "      <td>90.0</td>\n",
       "      <td>41718</td>\n",
       "      <td>Buttes-Montmartre</td>\n",
       "      <td>48.88434</td>\n",
       "      <td>2.34005</td>\n",
       "    </tr>\n",
       "    <tr>\n",
       "      <th>4</th>\n",
       "      <td>11798</td>\n",
       "      <td>2019-08-24</td>\n",
       "      <td>True</td>\n",
       "      <td>$120.00</td>\n",
       "      <td>120.0</td>\n",
       "      <td>2.0</td>\n",
       "      <td>20.0</td>\n",
       "      <td>44444</td>\n",
       "      <td>Gobelins</td>\n",
       "      <td>48.82405</td>\n",
       "      <td>2.36828</td>\n",
       "    </tr>\n",
       "  </tbody>\n",
       "</table>\n",
       "</div>"
      ],
      "text/plain": [
       "   listing_id       date available    price  adjusted_price  minimum_nights  \\\n",
       "0        3109 2019-08-24      True   $60.00            60.0             3.0   \n",
       "1        9952 2019-08-24      True  $100.00           100.0             5.0   \n",
       "2       11213 2019-08-24      True  $157.00           157.0             1.0   \n",
       "3       11265 2019-08-24      True   $99.00            99.0             7.0   \n",
       "4       11798 2019-08-24      True  $120.00           120.0             2.0   \n",
       "\n",
       "   maximum_nights  host_id      neighbourhood  latitude  longitude  \n",
       "0            15.0     3631       Observatoire  48.83349    2.31852  \n",
       "1           120.0    33534         Popincourt  48.86227    2.37134  \n",
       "2           730.0    41322           Entrepôt  48.87110    2.37424  \n",
       "3            90.0    41718  Buttes-Montmartre  48.88434    2.34005  \n",
       "4            20.0    44444           Gobelins  48.82405    2.36828  "
      ]
     },
     "execution_count": 46,
     "metadata": {},
     "output_type": "execute_result"
    }
   ],
   "source": [
    "clj.head()"
   ]
  },
  {
   "cell_type": "code",
   "execution_count": 47,
   "metadata": {},
   "outputs": [],
   "source": [
    "listings_details = pd.read_csv(\"/Users/Johanna/Documents/SIMPLON/PROJET/09. Airbnb Paris Aout 2019/source/listings_details.csv\", index_col= \"id\", low_memory=False)"
   ]
  },
  {
   "cell_type": "code",
   "execution_count": 48,
   "metadata": {},
   "outputs": [],
   "source": [
    "# préparer listing_details pour la jointure avec clj\n",
    "listings_details.index.name = \"listing_id\""
   ]
  },
  {
   "cell_type": "code",
   "execution_count": 49,
   "metadata": {},
   "outputs": [
    {
     "name": "stdout",
     "output_type": "stream",
     "text": [
      "<class 'pandas.core.frame.DataFrame'>\n",
      "Int64Index: 64293 entries, 3109 to 36561242\n",
      "Columns: 105 entries, listing_url to reviews_per_month\n",
      "dtypes: float64(23), int64(20), object(62)\n",
      "memory usage: 52.0+ MB\n"
     ]
    }
   ],
   "source": [
    "listings_details.info()"
   ]
  },
  {
   "cell_type": "code",
   "execution_count": 50,
   "metadata": {},
   "outputs": [
    {
     "name": "stdout",
     "output_type": "stream",
     "text": [
      "<class 'pandas.core.frame.DataFrame'>\n",
      "Int64Index: 18530 entries, 0 to 18529\n",
      "Data columns (total 14 columns):\n",
      "listing_id                18530 non-null int64\n",
      "date                      18530 non-null datetime64[ns]\n",
      "available                 18530 non-null object\n",
      "price                     18530 non-null object\n",
      "adjusted_price            18530 non-null float64\n",
      "minimum_nights            18530 non-null float64\n",
      "maximum_nights            18530 non-null float64\n",
      "host_id                   18530 non-null int64\n",
      "neighbourhood             18530 non-null object\n",
      "latitude                  18530 non-null float64\n",
      "longitude                 18530 non-null float64\n",
      "neighbourhood_cleansed    18530 non-null object\n",
      "accommodates              18530 non-null int64\n",
      "host_is_superhost         18509 non-null object\n",
      "dtypes: datetime64[ns](1), float64(5), int64(3), object(5)\n",
      "memory usage: 2.1+ MB\n"
     ]
    }
   ],
   "source": [
    "# retenir certaines colonnes du fichier listings_details et joindre les 2 listes\n",
    "dtarget_columns = [\"neighbourhood_cleansed\", \"accommodates\", \"host_is_superhost\"]\n",
    "cljv2 = pd.merge(clj, listings_details[dtarget_columns], on='listing_id', how='left')\n",
    "cljv2.info()"
   ]
  },
  {
   "cell_type": "code",
   "execution_count": 51,
   "metadata": {},
   "outputs": [
    {
     "data": {
      "text/html": [
       "<div>\n",
       "<style scoped>\n",
       "    .dataframe tbody tr th:only-of-type {\n",
       "        vertical-align: middle;\n",
       "    }\n",
       "\n",
       "    .dataframe tbody tr th {\n",
       "        vertical-align: top;\n",
       "    }\n",
       "\n",
       "    .dataframe thead th {\n",
       "        text-align: right;\n",
       "    }\n",
       "</style>\n",
       "<table border=\"1\" class=\"dataframe\">\n",
       "  <thead>\n",
       "    <tr style=\"text-align: right;\">\n",
       "      <th></th>\n",
       "      <th>listing_id</th>\n",
       "      <th>date</th>\n",
       "      <th>available</th>\n",
       "      <th>price</th>\n",
       "      <th>adjusted_price</th>\n",
       "      <th>minimum_nights</th>\n",
       "      <th>maximum_nights</th>\n",
       "      <th>host_id</th>\n",
       "      <th>neighbourhood</th>\n",
       "      <th>latitude</th>\n",
       "      <th>longitude</th>\n",
       "      <th>neighbourhood_cleansed</th>\n",
       "      <th>accommodates</th>\n",
       "      <th>host_is_superhost</th>\n",
       "    </tr>\n",
       "  </thead>\n",
       "  <tbody>\n",
       "    <tr>\n",
       "      <th>0</th>\n",
       "      <td>3109</td>\n",
       "      <td>2019-08-24</td>\n",
       "      <td>True</td>\n",
       "      <td>$60.00</td>\n",
       "      <td>60.0</td>\n",
       "      <td>3.0</td>\n",
       "      <td>15.0</td>\n",
       "      <td>3631</td>\n",
       "      <td>Observatoire</td>\n",
       "      <td>48.83349</td>\n",
       "      <td>2.31852</td>\n",
       "      <td>Observatoire</td>\n",
       "      <td>2</td>\n",
       "      <td>f</td>\n",
       "    </tr>\n",
       "    <tr>\n",
       "      <th>1</th>\n",
       "      <td>9952</td>\n",
       "      <td>2019-08-24</td>\n",
       "      <td>True</td>\n",
       "      <td>$100.00</td>\n",
       "      <td>100.0</td>\n",
       "      <td>5.0</td>\n",
       "      <td>120.0</td>\n",
       "      <td>33534</td>\n",
       "      <td>Popincourt</td>\n",
       "      <td>48.86227</td>\n",
       "      <td>2.37134</td>\n",
       "      <td>Popincourt</td>\n",
       "      <td>2</td>\n",
       "      <td>f</td>\n",
       "    </tr>\n",
       "    <tr>\n",
       "      <th>2</th>\n",
       "      <td>11213</td>\n",
       "      <td>2019-08-24</td>\n",
       "      <td>True</td>\n",
       "      <td>$157.00</td>\n",
       "      <td>157.0</td>\n",
       "      <td>1.0</td>\n",
       "      <td>730.0</td>\n",
       "      <td>41322</td>\n",
       "      <td>Entrepôt</td>\n",
       "      <td>48.87110</td>\n",
       "      <td>2.37424</td>\n",
       "      <td>Entrepôt</td>\n",
       "      <td>6</td>\n",
       "      <td>f</td>\n",
       "    </tr>\n",
       "    <tr>\n",
       "      <th>3</th>\n",
       "      <td>11265</td>\n",
       "      <td>2019-08-24</td>\n",
       "      <td>True</td>\n",
       "      <td>$99.00</td>\n",
       "      <td>99.0</td>\n",
       "      <td>7.0</td>\n",
       "      <td>90.0</td>\n",
       "      <td>41718</td>\n",
       "      <td>Buttes-Montmartre</td>\n",
       "      <td>48.88434</td>\n",
       "      <td>2.34005</td>\n",
       "      <td>Buttes-Montmartre</td>\n",
       "      <td>2</td>\n",
       "      <td>f</td>\n",
       "    </tr>\n",
       "    <tr>\n",
       "      <th>4</th>\n",
       "      <td>11798</td>\n",
       "      <td>2019-08-24</td>\n",
       "      <td>True</td>\n",
       "      <td>$120.00</td>\n",
       "      <td>120.0</td>\n",
       "      <td>2.0</td>\n",
       "      <td>20.0</td>\n",
       "      <td>44444</td>\n",
       "      <td>Gobelins</td>\n",
       "      <td>48.82405</td>\n",
       "      <td>2.36828</td>\n",
       "      <td>Gobelins</td>\n",
       "      <td>3</td>\n",
       "      <td>t</td>\n",
       "    </tr>\n",
       "  </tbody>\n",
       "</table>\n",
       "</div>"
      ],
      "text/plain": [
       "   listing_id       date available    price  adjusted_price  minimum_nights  \\\n",
       "0        3109 2019-08-24      True   $60.00            60.0             3.0   \n",
       "1        9952 2019-08-24      True  $100.00           100.0             5.0   \n",
       "2       11213 2019-08-24      True  $157.00           157.0             1.0   \n",
       "3       11265 2019-08-24      True   $99.00            99.0             7.0   \n",
       "4       11798 2019-08-24      True  $120.00           120.0             2.0   \n",
       "\n",
       "   maximum_nights  host_id      neighbourhood  latitude  longitude  \\\n",
       "0            15.0     3631       Observatoire  48.83349    2.31852   \n",
       "1           120.0    33534         Popincourt  48.86227    2.37134   \n",
       "2           730.0    41322           Entrepôt  48.87110    2.37424   \n",
       "3            90.0    41718  Buttes-Montmartre  48.88434    2.34005   \n",
       "4            20.0    44444           Gobelins  48.82405    2.36828   \n",
       "\n",
       "  neighbourhood_cleansed  accommodates host_is_superhost  \n",
       "0           Observatoire             2                 f  \n",
       "1             Popincourt             2                 f  \n",
       "2               Entrepôt             6                 f  \n",
       "3      Buttes-Montmartre             2                 f  \n",
       "4               Gobelins             3                 t  "
      ]
     },
     "execution_count": 51,
     "metadata": {},
     "output_type": "execute_result"
    }
   ],
   "source": [
    "cljv2.head()"
   ]
  },
  {
   "cell_type": "code",
   "execution_count": 52,
   "metadata": {},
   "outputs": [],
   "source": [
    "cljv2.host_is_superhost = cljv2.host_is_superhost.replace({\"t\": \"True\", \"f\": \"False\"})"
   ]
  },
  {
   "cell_type": "code",
   "execution_count": 53,
   "metadata": {},
   "outputs": [
    {
     "name": "stdout",
     "output_type": "stream",
     "text": [
      "<class 'pandas.core.frame.DataFrame'>\n",
      "Int64Index: 7638 entries, 2 to 18529\n",
      "Data columns (total 14 columns):\n",
      "listing_id                7638 non-null int64\n",
      "date                      7638 non-null datetime64[ns]\n",
      "available                 7638 non-null object\n",
      "price                     7638 non-null object\n",
      "adjusted_price            7638 non-null float64\n",
      "minimum_nights            7638 non-null float64\n",
      "maximum_nights            7638 non-null float64\n",
      "host_id                   7638 non-null int64\n",
      "neighbourhood             7638 non-null object\n",
      "latitude                  7638 non-null float64\n",
      "longitude                 7638 non-null float64\n",
      "neighbourhood_cleansed    7638 non-null object\n",
      "accommodates              7638 non-null int64\n",
      "host_is_superhost         7628 non-null object\n",
      "dtypes: datetime64[ns](1), float64(5), int64(3), object(5)\n",
      "memory usage: 895.1+ KB\n"
     ]
    }
   ],
   "source": [
    "# filtrer sur le nombre de personnes\n",
    "fnp = (cljv2.accommodates >= n_p)\n",
    "cldm_np = cljv2[fnp]\n",
    "cldm_np.info()"
   ]
  },
  {
   "cell_type": "code",
   "execution_count": 54,
   "metadata": {},
   "outputs": [
    {
     "data": {
      "text/html": [
       "<div>\n",
       "<style scoped>\n",
       "    .dataframe tbody tr th:only-of-type {\n",
       "        vertical-align: middle;\n",
       "    }\n",
       "\n",
       "    .dataframe tbody tr th {\n",
       "        vertical-align: top;\n",
       "    }\n",
       "\n",
       "    .dataframe thead th {\n",
       "        text-align: right;\n",
       "    }\n",
       "</style>\n",
       "<table border=\"1\" class=\"dataframe\">\n",
       "  <thead>\n",
       "    <tr style=\"text-align: right;\">\n",
       "      <th></th>\n",
       "      <th>listing_id</th>\n",
       "      <th>date</th>\n",
       "      <th>available</th>\n",
       "      <th>price</th>\n",
       "      <th>adjusted_price</th>\n",
       "      <th>minimum_nights</th>\n",
       "      <th>maximum_nights</th>\n",
       "      <th>host_id</th>\n",
       "      <th>neighbourhood</th>\n",
       "      <th>latitude</th>\n",
       "      <th>longitude</th>\n",
       "      <th>neighbourhood_cleansed</th>\n",
       "      <th>accommodates</th>\n",
       "      <th>host_is_superhost</th>\n",
       "    </tr>\n",
       "  </thead>\n",
       "  <tbody>\n",
       "    <tr>\n",
       "      <th>2</th>\n",
       "      <td>11213</td>\n",
       "      <td>2019-08-24</td>\n",
       "      <td>True</td>\n",
       "      <td>$157.00</td>\n",
       "      <td>157.0</td>\n",
       "      <td>1.0</td>\n",
       "      <td>730.0</td>\n",
       "      <td>41322</td>\n",
       "      <td>Entrepôt</td>\n",
       "      <td>48.87110</td>\n",
       "      <td>2.37424</td>\n",
       "      <td>Entrepôt</td>\n",
       "      <td>6</td>\n",
       "      <td>False</td>\n",
       "    </tr>\n",
       "    <tr>\n",
       "      <th>7</th>\n",
       "      <td>59959</td>\n",
       "      <td>2019-08-24</td>\n",
       "      <td>True</td>\n",
       "      <td>$130.00</td>\n",
       "      <td>130.0</td>\n",
       "      <td>3.0</td>\n",
       "      <td>31.0</td>\n",
       "      <td>288512</td>\n",
       "      <td>Buttes-Chaumont</td>\n",
       "      <td>48.89368</td>\n",
       "      <td>2.38419</td>\n",
       "      <td>Buttes-Chaumont</td>\n",
       "      <td>4</td>\n",
       "      <td>False</td>\n",
       "    </tr>\n",
       "    <tr>\n",
       "      <th>8</th>\n",
       "      <td>60165</td>\n",
       "      <td>2019-08-24</td>\n",
       "      <td>True</td>\n",
       "      <td>$70.00</td>\n",
       "      <td>70.0</td>\n",
       "      <td>3.0</td>\n",
       "      <td>20.0</td>\n",
       "      <td>289696</td>\n",
       "      <td>Buttes-Montmartre</td>\n",
       "      <td>48.88741</td>\n",
       "      <td>2.34924</td>\n",
       "      <td>Buttes-Montmartre</td>\n",
       "      <td>4</td>\n",
       "      <td>False</td>\n",
       "    </tr>\n",
       "    <tr>\n",
       "      <th>9</th>\n",
       "      <td>21004</td>\n",
       "      <td>2019-08-24</td>\n",
       "      <td>True</td>\n",
       "      <td>$190.00</td>\n",
       "      <td>190.0</td>\n",
       "      <td>2.0</td>\n",
       "      <td>40.0</td>\n",
       "      <td>79843</td>\n",
       "      <td>Reuilly</td>\n",
       "      <td>48.84000</td>\n",
       "      <td>2.40067</td>\n",
       "      <td>Reuilly</td>\n",
       "      <td>5</td>\n",
       "      <td>False</td>\n",
       "    </tr>\n",
       "    <tr>\n",
       "      <th>11</th>\n",
       "      <td>16455</td>\n",
       "      <td>2019-08-24</td>\n",
       "      <td>True</td>\n",
       "      <td>$90.00</td>\n",
       "      <td>90.0</td>\n",
       "      <td>7.0</td>\n",
       "      <td>730.0</td>\n",
       "      <td>64054</td>\n",
       "      <td>Gobelins</td>\n",
       "      <td>48.83616</td>\n",
       "      <td>2.36323</td>\n",
       "      <td>Gobelins</td>\n",
       "      <td>5</td>\n",
       "      <td>False</td>\n",
       "    </tr>\n",
       "  </tbody>\n",
       "</table>\n",
       "</div>"
      ],
      "text/plain": [
       "    listing_id       date available    price  adjusted_price  minimum_nights  \\\n",
       "2        11213 2019-08-24      True  $157.00           157.0             1.0   \n",
       "7        59959 2019-08-24      True  $130.00           130.0             3.0   \n",
       "8        60165 2019-08-24      True   $70.00            70.0             3.0   \n",
       "9        21004 2019-08-24      True  $190.00           190.0             2.0   \n",
       "11       16455 2019-08-24      True   $90.00            90.0             7.0   \n",
       "\n",
       "    maximum_nights  host_id      neighbourhood  latitude  longitude  \\\n",
       "2            730.0    41322           Entrepôt  48.87110    2.37424   \n",
       "7             31.0   288512    Buttes-Chaumont  48.89368    2.38419   \n",
       "8             20.0   289696  Buttes-Montmartre  48.88741    2.34924   \n",
       "9             40.0    79843            Reuilly  48.84000    2.40067   \n",
       "11           730.0    64054           Gobelins  48.83616    2.36323   \n",
       "\n",
       "   neighbourhood_cleansed  accommodates host_is_superhost  \n",
       "2                Entrepôt             6             False  \n",
       "7         Buttes-Chaumont             4             False  \n",
       "8       Buttes-Montmartre             4             False  \n",
       "9                 Reuilly             5             False  \n",
       "11               Gobelins             5             False  "
      ]
     },
     "execution_count": 54,
     "metadata": {},
     "output_type": "execute_result"
    }
   ],
   "source": [
    "# vérifier le résultat du filtre\n",
    "cldm_np.head(5)"
   ]
  },
  {
   "cell_type": "code",
   "execution_count": 55,
   "metadata": {},
   "outputs": [
    {
     "name": "stdout",
     "output_type": "stream",
     "text": [
      "<class 'pandas.core.frame.DataFrame'>\n",
      "Int64Index: 93 entries, 25 to 18495\n",
      "Data columns (total 14 columns):\n",
      "listing_id                93 non-null int64\n",
      "date                      93 non-null datetime64[ns]\n",
      "available                 93 non-null object\n",
      "price                     93 non-null object\n",
      "adjusted_price            93 non-null float64\n",
      "minimum_nights            93 non-null float64\n",
      "maximum_nights            93 non-null float64\n",
      "host_id                   93 non-null int64\n",
      "neighbourhood             93 non-null object\n",
      "latitude                  93 non-null float64\n",
      "longitude                 93 non-null float64\n",
      "neighbourhood_cleansed    93 non-null object\n",
      "accommodates              93 non-null int64\n",
      "host_is_superhost         93 non-null object\n",
      "dtypes: datetime64[ns](1), float64(5), int64(3), object(5)\n",
      "memory usage: 10.9+ KB\n"
     ]
    }
   ],
   "source": [
    "# filtrer sur le prix max\n",
    "fpm = (cldm_np.adjusted_price <= p_m)\n",
    "cldm_pm = cldm_np[fpm]\n",
    "cldm_pm.info()"
   ]
  },
  {
   "cell_type": "code",
   "execution_count": 56,
   "metadata": {},
   "outputs": [
    {
     "data": {
      "text/html": [
       "<div>\n",
       "<style scoped>\n",
       "    .dataframe tbody tr th:only-of-type {\n",
       "        vertical-align: middle;\n",
       "    }\n",
       "\n",
       "    .dataframe tbody tr th {\n",
       "        vertical-align: top;\n",
       "    }\n",
       "\n",
       "    .dataframe thead th {\n",
       "        text-align: right;\n",
       "    }\n",
       "</style>\n",
       "<table border=\"1\" class=\"dataframe\">\n",
       "  <thead>\n",
       "    <tr style=\"text-align: right;\">\n",
       "      <th></th>\n",
       "      <th>listing_id</th>\n",
       "      <th>date</th>\n",
       "      <th>available</th>\n",
       "      <th>price</th>\n",
       "      <th>adjusted_price</th>\n",
       "      <th>minimum_nights</th>\n",
       "      <th>maximum_nights</th>\n",
       "      <th>host_id</th>\n",
       "      <th>neighbourhood</th>\n",
       "      <th>latitude</th>\n",
       "      <th>longitude</th>\n",
       "      <th>neighbourhood_cleansed</th>\n",
       "      <th>accommodates</th>\n",
       "      <th>host_is_superhost</th>\n",
       "    </tr>\n",
       "  </thead>\n",
       "  <tbody>\n",
       "    <tr>\n",
       "      <th>25</th>\n",
       "      <td>150800</td>\n",
       "      <td>2019-08-24</td>\n",
       "      <td>True</td>\n",
       "      <td>$40.00</td>\n",
       "      <td>40.0</td>\n",
       "      <td>1.0</td>\n",
       "      <td>365.0</td>\n",
       "      <td>726311</td>\n",
       "      <td>Buttes-Chaumont</td>\n",
       "      <td>48.87439</td>\n",
       "      <td>2.38476</td>\n",
       "      <td>Buttes-Chaumont</td>\n",
       "      <td>6</td>\n",
       "      <td>False</td>\n",
       "    </tr>\n",
       "    <tr>\n",
       "      <th>32</th>\n",
       "      <td>154984</td>\n",
       "      <td>2019-08-24</td>\n",
       "      <td>True</td>\n",
       "      <td>$40.00</td>\n",
       "      <td>40.0</td>\n",
       "      <td>1.0</td>\n",
       "      <td>365.0</td>\n",
       "      <td>726311</td>\n",
       "      <td>Buttes-Chaumont</td>\n",
       "      <td>48.87442</td>\n",
       "      <td>2.38340</td>\n",
       "      <td>Buttes-Chaumont</td>\n",
       "      <td>6</td>\n",
       "      <td>False</td>\n",
       "    </tr>\n",
       "    <tr>\n",
       "      <th>33</th>\n",
       "      <td>155072</td>\n",
       "      <td>2019-08-24</td>\n",
       "      <td>True</td>\n",
       "      <td>$40.00</td>\n",
       "      <td>40.0</td>\n",
       "      <td>1.0</td>\n",
       "      <td>365.0</td>\n",
       "      <td>726311</td>\n",
       "      <td>Buttes-Chaumont</td>\n",
       "      <td>48.87460</td>\n",
       "      <td>2.38487</td>\n",
       "      <td>Buttes-Chaumont</td>\n",
       "      <td>6</td>\n",
       "      <td>False</td>\n",
       "    </tr>\n",
       "    <tr>\n",
       "      <th>46</th>\n",
       "      <td>163384</td>\n",
       "      <td>2019-08-24</td>\n",
       "      <td>True</td>\n",
       "      <td>$40.00</td>\n",
       "      <td>40.0</td>\n",
       "      <td>1.0</td>\n",
       "      <td>730.0</td>\n",
       "      <td>726311</td>\n",
       "      <td>Buttes-Chaumont</td>\n",
       "      <td>48.87497</td>\n",
       "      <td>2.38483</td>\n",
       "      <td>Buttes-Chaumont</td>\n",
       "      <td>6</td>\n",
       "      <td>False</td>\n",
       "    </tr>\n",
       "    <tr>\n",
       "      <th>89</th>\n",
       "      <td>142507</td>\n",
       "      <td>2019-08-24</td>\n",
       "      <td>True</td>\n",
       "      <td>$50.00</td>\n",
       "      <td>50.0</td>\n",
       "      <td>1.0</td>\n",
       "      <td>730.0</td>\n",
       "      <td>596692</td>\n",
       "      <td>Gobelins</td>\n",
       "      <td>48.82521</td>\n",
       "      <td>2.35752</td>\n",
       "      <td>Gobelins</td>\n",
       "      <td>4</td>\n",
       "      <td>False</td>\n",
       "    </tr>\n",
       "  </tbody>\n",
       "</table>\n",
       "</div>"
      ],
      "text/plain": [
       "    listing_id       date available   price  adjusted_price  minimum_nights  \\\n",
       "25      150800 2019-08-24      True  $40.00            40.0             1.0   \n",
       "32      154984 2019-08-24      True  $40.00            40.0             1.0   \n",
       "33      155072 2019-08-24      True  $40.00            40.0             1.0   \n",
       "46      163384 2019-08-24      True  $40.00            40.0             1.0   \n",
       "89      142507 2019-08-24      True  $50.00            50.0             1.0   \n",
       "\n",
       "    maximum_nights  host_id    neighbourhood  latitude  longitude  \\\n",
       "25           365.0   726311  Buttes-Chaumont  48.87439    2.38476   \n",
       "32           365.0   726311  Buttes-Chaumont  48.87442    2.38340   \n",
       "33           365.0   726311  Buttes-Chaumont  48.87460    2.38487   \n",
       "46           730.0   726311  Buttes-Chaumont  48.87497    2.38483   \n",
       "89           730.0   596692         Gobelins  48.82521    2.35752   \n",
       "\n",
       "   neighbourhood_cleansed  accommodates host_is_superhost  \n",
       "25        Buttes-Chaumont             6             False  \n",
       "32        Buttes-Chaumont             6             False  \n",
       "33        Buttes-Chaumont             6             False  \n",
       "46        Buttes-Chaumont             6             False  \n",
       "89               Gobelins             4             False  "
      ]
     },
     "execution_count": 56,
     "metadata": {},
     "output_type": "execute_result"
    }
   ],
   "source": [
    "# vérifier le résultat du filtre\n",
    "cldm_pm.head(5)"
   ]
  },
  {
   "cell_type": "code",
   "execution_count": 57,
   "metadata": {},
   "outputs": [
    {
     "name": "stdout",
     "output_type": "stream",
     "text": [
      "<class 'pandas.core.frame.DataFrame'>\n",
      "Int64Index: 4 entries, 1032 to 17032\n",
      "Data columns (total 14 columns):\n",
      "listing_id                4 non-null int64\n",
      "date                      4 non-null datetime64[ns]\n",
      "available                 4 non-null object\n",
      "price                     4 non-null object\n",
      "adjusted_price            4 non-null float64\n",
      "minimum_nights            4 non-null float64\n",
      "maximum_nights            4 non-null float64\n",
      "host_id                   4 non-null int64\n",
      "neighbourhood             4 non-null object\n",
      "latitude                  4 non-null float64\n",
      "longitude                 4 non-null float64\n",
      "neighbourhood_cleansed    4 non-null object\n",
      "accommodates              4 non-null int64\n",
      "host_is_superhost         4 non-null object\n",
      "dtypes: datetime64[ns](1), float64(5), int64(3), object(5)\n",
      "memory usage: 480.0+ bytes\n"
     ]
    }
   ],
   "source": [
    "# filtrer sur les superhost\n",
    "fsh = (cldm_pm.host_is_superhost == \"True\") \n",
    "paris = cldm_pm[fsh] # l'appliquer au df précédent\n",
    "paris.info()"
   ]
  },
  {
   "cell_type": "code",
   "execution_count": 58,
   "metadata": {},
   "outputs": [
    {
     "data": {
      "text/html": [
       "<div>\n",
       "<style scoped>\n",
       "    .dataframe tbody tr th:only-of-type {\n",
       "        vertical-align: middle;\n",
       "    }\n",
       "\n",
       "    .dataframe tbody tr th {\n",
       "        vertical-align: top;\n",
       "    }\n",
       "\n",
       "    .dataframe thead th {\n",
       "        text-align: right;\n",
       "    }\n",
       "</style>\n",
       "<table border=\"1\" class=\"dataframe\">\n",
       "  <thead>\n",
       "    <tr style=\"text-align: right;\">\n",
       "      <th></th>\n",
       "      <th>listing_id</th>\n",
       "      <th>date</th>\n",
       "      <th>available</th>\n",
       "      <th>price</th>\n",
       "      <th>adjusted_price</th>\n",
       "      <th>minimum_nights</th>\n",
       "      <th>maximum_nights</th>\n",
       "      <th>host_id</th>\n",
       "      <th>neighbourhood</th>\n",
       "      <th>latitude</th>\n",
       "      <th>longitude</th>\n",
       "      <th>neighbourhood_cleansed</th>\n",
       "      <th>accommodates</th>\n",
       "      <th>host_is_superhost</th>\n",
       "    </tr>\n",
       "  </thead>\n",
       "  <tbody>\n",
       "    <tr>\n",
       "      <th>1032</th>\n",
       "      <td>1548562</td>\n",
       "      <td>2019-08-24</td>\n",
       "      <td>True</td>\n",
       "      <td>$45.00</td>\n",
       "      <td>45.0</td>\n",
       "      <td>2.0</td>\n",
       "      <td>25.0</td>\n",
       "      <td>7974408</td>\n",
       "      <td>Ménilmontant</td>\n",
       "      <td>48.85471</td>\n",
       "      <td>2.40951</td>\n",
       "      <td>Ménilmontant</td>\n",
       "      <td>4</td>\n",
       "      <td>True</td>\n",
       "    </tr>\n",
       "    <tr>\n",
       "      <th>1725</th>\n",
       "      <td>3335021</td>\n",
       "      <td>2019-08-24</td>\n",
       "      <td>True</td>\n",
       "      <td>$49.00</td>\n",
       "      <td>49.0</td>\n",
       "      <td>10.0</td>\n",
       "      <td>120.0</td>\n",
       "      <td>3497395</td>\n",
       "      <td>Ménilmontant</td>\n",
       "      <td>48.86954</td>\n",
       "      <td>2.39148</td>\n",
       "      <td>Ménilmontant</td>\n",
       "      <td>4</td>\n",
       "      <td>True</td>\n",
       "    </tr>\n",
       "    <tr>\n",
       "      <th>6661</th>\n",
       "      <td>19857887</td>\n",
       "      <td>2019-08-24</td>\n",
       "      <td>True</td>\n",
       "      <td>$40.00</td>\n",
       "      <td>40.0</td>\n",
       "      <td>10.0</td>\n",
       "      <td>1125.0</td>\n",
       "      <td>14070690</td>\n",
       "      <td>Buttes-Chaumont</td>\n",
       "      <td>48.88558</td>\n",
       "      <td>2.38359</td>\n",
       "      <td>Buttes-Chaumont</td>\n",
       "      <td>4</td>\n",
       "      <td>True</td>\n",
       "    </tr>\n",
       "    <tr>\n",
       "      <th>17032</th>\n",
       "      <td>36019354</td>\n",
       "      <td>2019-08-24</td>\n",
       "      <td>True</td>\n",
       "      <td>$50.00</td>\n",
       "      <td>50.0</td>\n",
       "      <td>30.0</td>\n",
       "      <td>1125.0</td>\n",
       "      <td>6069249</td>\n",
       "      <td>Temple</td>\n",
       "      <td>48.86245</td>\n",
       "      <td>2.35830</td>\n",
       "      <td>Temple</td>\n",
       "      <td>4</td>\n",
       "      <td>True</td>\n",
       "    </tr>\n",
       "  </tbody>\n",
       "</table>\n",
       "</div>"
      ],
      "text/plain": [
       "       listing_id       date available   price  adjusted_price  \\\n",
       "1032      1548562 2019-08-24      True  $45.00            45.0   \n",
       "1725      3335021 2019-08-24      True  $49.00            49.0   \n",
       "6661     19857887 2019-08-24      True  $40.00            40.0   \n",
       "17032    36019354 2019-08-24      True  $50.00            50.0   \n",
       "\n",
       "       minimum_nights  maximum_nights   host_id    neighbourhood  latitude  \\\n",
       "1032              2.0            25.0   7974408     Ménilmontant  48.85471   \n",
       "1725             10.0           120.0   3497395     Ménilmontant  48.86954   \n",
       "6661             10.0          1125.0  14070690  Buttes-Chaumont  48.88558   \n",
       "17032            30.0          1125.0   6069249           Temple  48.86245   \n",
       "\n",
       "       longitude neighbourhood_cleansed  accommodates host_is_superhost  \n",
       "1032     2.40951           Ménilmontant             4              True  \n",
       "1725     2.39148           Ménilmontant             4              True  \n",
       "6661     2.38359        Buttes-Chaumont             4              True  \n",
       "17032    2.35830                 Temple             4              True  "
      ]
     },
     "execution_count": 58,
     "metadata": {},
     "output_type": "execute_result"
    }
   ],
   "source": [
    "# vérifier le résultat du filtre\n",
    "paris.head(5)"
   ]
  },
  {
   "cell_type": "code",
   "execution_count": 59,
   "metadata": {},
   "outputs": [
    {
     "data": {
      "image/png": "[encoded data removed]",
      "text/plain": [
       "<Figure size 720x576 with 1 Axes>"
      ]
     },
     "metadata": {
      "needs_background": "light"
     },
     "output_type": "display_data"
    }
   ],
   "source": [
    "feq = paris[paris['accommodates']== n_p] \n",
    "feq = feq.groupby('neighbourhood')['adjusted_price'].mean().sort_values(ascending=True)\n",
    "feq.plot.barh(figsize=(10, 8), color='b', width=0.5)\n",
    "plt.title(\"Prix par jour par quartier\", fontsize=20)\n",
    "plt.xlabel('Prix moyen (Euro)', fontsize=12)\n",
    "plt.ylabel(\"\")\n",
    "plt.show()"
   ]
  },
  {
   "cell_type": "code",
   "execution_count": 60,
   "metadata": {},
   "outputs": [
    {
     "data": {
      "text/html": [
       "<div style=\"width:100%;\"><div style=\"position:relative;width:100%;height:0;padding-bottom:60%;\"><iframe src=\"data:text/html;charset=utf-8;base64,PCFET0NUWVBFIGh0bWw+CjxoZWFkPiAgICAKICAgIDxtZXRhIGh0dHAtZXF1aXY9ImNvbnRlbnQtdHlwZSIgY29udGVudD0idGV4dC9odG1sOyBjaGFyc2V0PVVURi04IiAvPgogICAgCiAgICAgICAgPHNjcmlwdD4KICAgICAgICAgICAgTF9OT19UT1VDSCA9IGZhbHNlOwogICAgICAgICAgICBMX0RJU0FCTEVfM0QgPSBmYWxzZTsKICAgICAgICA8L3NjcmlwdD4KICAgIAogICAgPHNjcmlwdCBzcmM9Imh0dHBzOi8vY2RuLmpzZGVsaXZyLm5ldC9ucG0vbGVhZmxldEAxLjUuMS9kaXN0L2xlYWZsZXQuanMiPjwvc2NyaXB0PgogICAgPHNjcmlwdCBzcmM9Imh0dHBzOi8vY29kZS5qcXVlcnkuY29tL2pxdWVyeS0xLjEyLjQubWluLmpzIj48L3NjcmlwdD4KICAgIDxzY3JpcHQgc3JjPSJodHRwczovL21heGNkbi5ib290c3RyYXBjZG4uY29tL2Jvb3RzdHJhcC8zLjIuMC9qcy9ib290c3RyYXAubWluLmpzIj48L3NjcmlwdD4KICAgIDxzY3JpcHQgc3JjPSJodHRwczovL2NkbmpzLmNsb3VkZmxhcmUuY29tL2FqYXgvbGlicy9MZWFmbGV0LmF3ZXNvbWUtbWFya2Vycy8yLjAuMi9sZWFmbGV0LmF3ZXNvbWUtbWFya2Vycy5qcyI+PC9zY3JpcHQ+CiAgICA8bGluayByZWw9InN0eWxlc2hlZXQiIGhyZWY9Imh0dHBzOi8vY2RuLmpzZGVsaXZyLm5ldC9ucG0vbGVhZmxldEAxLjUuMS9kaXN0L2xlYWZsZXQuY3NzIi8+CiAgICA8bGluayByZWw9InN0eWxlc2hlZXQiIGhyZWY9Imh0dHBzOi8vbWF4Y2RuLmJvb3RzdHJhcGNkbi5jb20vYm9vdHN0cmFwLzMuMi4wL2Nzcy9ib290c3RyYXAubWluLmNzcyIvPgogICAgPGxpbmsgcmVsPSJzdHlsZXNoZWV0IiBocmVmPSJodHRwczovL21heGNkbi5ib290c3RyYXBjZG4uY29tL2Jvb3RzdHJhcC8zLjIuMC9jc3MvYm9vdHN0cmFwLXRoZW1lLm1pbi5jc3MiLz4KICAgIDxsaW5rIHJlbD0ic3R5bGVzaGVldCIgaHJlZj0iaHR0cHM6Ly9tYXhjZG4uYm9vdHN0cmFwY2RuLmNvbS9mb250LWF3ZXNvbWUvNC42LjMvY3NzL2ZvbnQtYXdlc29tZS5taW4uY3NzIi8+CiAgICA8bGluayByZWw9InN0eWxlc2hlZXQiIGhyZWY9Imh0dHBzOi8vY2RuanMuY2xvdWRmbGFyZS5jb20vYWpheC9saWJzL0xlYWZsZXQuYXdlc29tZS1tYXJrZXJzLzIuMC4yL2xlYWZsZXQuYXdlc29tZS1tYXJrZXJzLmNzcyIvPgogICAgPGxpbmsgcmVsPSJzdHlsZXNoZWV0IiBocmVmPSJodHRwczovL3Jhd2Nkbi5naXRoYWNrLmNvbS9weXRob24tdmlzdWFsaXphdGlvbi9mb2xpdW0vbWFzdGVyL2ZvbGl1bS90ZW1wbGF0ZXMvbGVhZmxldC5hd2Vzb21lLnJvdGF0ZS5jc3MiLz4KICAgIDxzdHlsZT5odG1sLCBib2R5IHt3aWR0aDogMTAwJTtoZWlnaHQ6IDEwMCU7bWFyZ2luOiAwO3BhZGRpbmc6IDA7fTwvc3R5bGU+CiAgICA8c3R5bGU+I21hcCB7cG9zaXRpb246YWJzb2x1dGU7dG9wOjA7Ym90dG9tOjA7cmlnaHQ6MDtsZWZ0OjA7fTwvc3R5bGU+CiAgICAKICAgICAgICAgICAgPG1ldGEgbmFtZT0idmlld3BvcnQiIGNvbnRlbnQ9IndpZHRoPWRldmljZS13aWR0aCwKICAgICAgICAgICAgICAgIGluaXRpYWwtc2NhbGU9MS4wLCBtYXhpbXVtLXNjYWxlPTEuMCwgdXNlci1zY2FsYWJsZT1ubyIgLz4KICAgICAgICAgICAgPHN0eWxlPgogICAgICAgICAgICAgICAgI21hcF9jYzA2MjlkOWVlNWU0YmExYmVhNWQ5OWE3MjNlNTNjZiB7CiAgICAgICAgICAgICAgICAgICAgcG9zaXRpb246IHJlbGF0aXZlOwogICAgICAgICAgICAgICAgICAgIHdpZHRoOiAxMDAuMCU7CiAgICAgICAgICAgICAgICAgICAgaGVpZ2h0OiAxMDAuMCU7CiAgICAgICAgICAgICAgICAgICAgbGVmdDogMC4wJTsKICAgICAgICAgICAgICAgICAgICB0b3A6IDAuMCU7CiAgICAgICAgICAgICAgICB9CiAgICAgICAgICAgIDwvc3R5bGU+CiAgICAgICAgCiAgICA8c2NyaXB0IHNyYz0iaHR0cHM6Ly9jZG5qcy5jbG91ZGZsYXJlLmNvbS9hamF4L2xpYnMvbGVhZmxldC5tYXJrZXJjbHVzdGVyLzEuMS4wL2xlYWZsZXQubWFya2VyY2x1c3Rlci5qcyI+PC9zY3JpcHQ+CiAgICA8bGluayByZWw9InN0eWxlc2hlZXQiIGhyZWY9Imh0dHBzOi8vY2RuanMuY2xvdWRmbGFyZS5jb20vYWpheC9saWJzL2xlYWZsZXQubWFya2VyY2x1c3Rlci8xLjEuMC9NYXJrZXJDbHVzdGVyLmNzcyIvPgogICAgPGxpbmsgcmVsPSJzdHlsZXNoZWV0IiBocmVmPSJodHRwczovL2NkbmpzLmNsb3VkZmxhcmUuY29tL2FqYXgvbGlicy9sZWFmbGV0Lm1hcmtlcmNsdXN0ZXIvMS4xLjAvTWFya2VyQ2x1c3Rlci5EZWZhdWx0LmNzcyIvPgo8L2hlYWQ+Cjxib2R5PiAgICAKICAgIAogICAgICAgICAgICA8ZGl2IGNsYXNzPSJmb2xpdW0tbWFwIiBpZD0ibWFwX2NjMDYyOWQ5ZWU1ZTRiYTFiZWE1ZDk5YTcyM2U1M2NmIiA+PC9kaXY+CiAgICAgICAgCjwvYm9keT4KPHNjcmlwdD4gICAgCiAgICAKICAgICAgICAgICAgdmFyIG1hcF9jYzA2MjlkOWVlNWU0YmExYmVhNWQ5OWE3MjNlNTNjZiA9IEwubWFwKAogICAgICAgICAgICAgICAgIm1hcF9jYzA2MjlkOWVlNWU0YmExYmVhNWQ5OWE3MjNlNTNjZiIsCiAgICAgICAgICAgICAgICB7CiAgICAgICAgICAgICAgICAgICAgY2VudGVyOiBbNDguODUzNCwgMi4zNDg4XSwKICAgICAgICAgICAgICAgICAgICBjcnM6IEwuQ1JTLkVQU0czODU3LAogICAgICAgICAgICAgICAgICAgIHpvb206IDExLjUsCiAgICAgICAgICAgICAgICAgICAgem9vbUNvbnRyb2w6IHRydWUsCiAgICAgICAgICAgICAgICAgICAgcHJlZmVyQ2FudmFzOiBmYWxzZSwKICAgICAgICAgICAgICAgIH0KICAgICAgICAgICAgKTsKCiAgICAgICAgICAgIAoKICAgICAgICAKICAgIAogICAgICAgICAgICB2YXIgdGlsZV9sYXllcl9iOGY3MmNjNjY4ZTE0M2YxYmViNmFiNzVhZDYyNTNlMSA9IEwudGlsZUxheWVyKAogICAgICAgICAgICAgICAgImh0dHBzOi8ve3N9LnRpbGUub3BlbnN0cmVldG1hcC5vcmcve3p9L3t4fS97eX0ucG5nIiwKICAgICAgICAgICAgICAgIHsiYXR0cmlidXRpb24iOiAiRGF0YSBieSBcdTAwMjZjb3B5OyBcdTAwM2NhIGhyZWY9XCJodHRwOi8vb3BlbnN0cmVldG1hcC5vcmdcIlx1MDAzZU9wZW5TdHJlZXRNYXBcdTAwM2MvYVx1MDAzZSwgdW5kZXIgXHUwMDNjYSBocmVmPVwiaHR0cDovL3d3dy5vcGVuc3RyZWV0bWFwLm9yZy9jb3B5cmlnaHRcIlx1MDAzZU9EYkxcdTAwM2MvYVx1MDAzZS4iLCAiZGV0ZWN0UmV0aW5hIjogZmFsc2UsICJtYXhOYXRpdmVab29tIjogMTgsICJtYXhab29tIjogMTgsICJtaW5ab29tIjogMCwgIm5vV3JhcCI6IGZhbHNlLCAib3BhY2l0eSI6IDEsICJzdWJkb21haW5zIjogImFiYyIsICJ0bXMiOiBmYWxzZX0KICAgICAgICAgICAgKS5hZGRUbyhtYXBfY2MwNjI5ZDllZTVlNGJhMWJlYTVkOTlhNzIzZTUzY2YpOwogICAgICAgIAogICAgCiAgICAgICAgICAgIHZhciBmYXN0X21hcmtlcl9jbHVzdGVyXzM4MWNkYTk0NjZlZTRmMDA5M2Q0OGYzZGVhZTEzNDgyID0gKGZ1bmN0aW9uKCl7CiAgICAgICAgICAgICAgICAKICAgICAgICAgICAgICAgIHZhciBjYWxsYmFjayA9IGZ1bmN0aW9uIChyb3cpIHsKICAgICAgICAgICAgICAgICAgICB2YXIgaWNvbiA9IEwuQXdlc29tZU1hcmtlcnMuaWNvbigpOwogICAgICAgICAgICAgICAgICAgIHZhciBtYXJrZXIgPSBMLm1hcmtlcihuZXcgTC5MYXRMbmcocm93WzBdLCByb3dbMV0pKTsKICAgICAgICAgICAgICAgICAgICBtYXJrZXIuc2V0SWNvbihpY29uKTsKICAgICAgICAgICAgICAgICAgICByZXR1cm4gbWFya2VyOwogICAgICAgICAgICAgICAgfTsKCiAgICAgICAgICAgICAgICB2YXIgZGF0YSA9IFtbNDguODU0NzEsIDIuNDA5NTFdLCBbNDguODY5NTQsIDIuMzkxNDhdLCBbNDguODg1NTgsIDIuMzgzNTkwMDAwMDAwMDAwM10sIFs0OC44NjI0NSwgMi4zNTgzXV07CiAgICAgICAgICAgICAgICB2YXIgY2x1c3RlciA9IEwubWFya2VyQ2x1c3Rlckdyb3VwKHt9KTsKCiAgICAgICAgICAgICAgICBmb3IgKHZhciBpID0gMDsgaSA8IGRhdGEubGVuZ3RoOyBpKyspIHsKICAgICAgICAgICAgICAgICAgICB2YXIgcm93ID0gZGF0YVtpXTsKICAgICAgICAgICAgICAgICAgICB2YXIgbWFya2VyID0gY2FsbGJhY2socm93KTsKICAgICAgICAgICAgICAgICAgICBtYXJrZXIuYWRkVG8oY2x1c3Rlcik7CiAgICAgICAgICAgICAgICB9CgogICAgICAgICAgICAgICAgY2x1c3Rlci5hZGRUbyhtYXBfY2MwNjI5ZDllZTVlNGJhMWJlYTVkOTlhNzIzZTUzY2YpOwogICAgICAgICAgICAgICAgcmV0dXJuIGNsdXN0ZXI7CiAgICAgICAgICAgIH0pKCk7CiAgICAgICAgCjwvc2NyaXB0Pg==\" style=\"position:absolute;width:100%;height:100%;left:0;top:0;border:none !important;\" allowfullscreen webkitallowfullscreen mozallowfullscreen></iframe></div></div>"
      ],
      "text/plain": [
       "<folium.folium.Map at 0x132181bd0>"
      ]
     },
     "execution_count": 60,
     "metadata": {},
     "output_type": "execute_result"
    }
   ],
   "source": [
    "lats2019 = paris['latitude'].tolist()\n",
    "lons2019 = paris['longitude'].tolist()\n",
    "locations = list(zip(lats2019, lons2019))\n",
    "\n",
    "map1 = folium.Map(location=[48.8534, 2.3488], zoom_start=11.5)\n",
    "FastMarkerCluster(data=locations).add_to(map1)\n",
    "map1\n",
    "\n",
    "# map1.save(\"map1.html\")"
   ]
  },
  {
   "cell_type": "code",
   "execution_count": null,
   "metadata": {},
   "outputs": [],
   "source": []
  }
 ],
 "metadata": {
  "kernelspec": {
   "display_name": "Python 3",
   "language": "python",
   "name": "python3"
  },
  "language_info": {
   "codemirror_mode": {
    "name": "ipython",
    "version": 3
   },
   "file_extension": ".py",
   "mimetype": "text/x-python",
   "name": "python",
   "nbconvert_exporter": "python",
   "pygments_lexer": "ipython3",
   "version": "3.6.0"
  }
 },
 "nbformat": 4,
 "nbformat_minor": 2
}
